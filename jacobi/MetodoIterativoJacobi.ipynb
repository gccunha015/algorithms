{
 "cells": [
  {
   "cell_type": "code",
   "execution_count": 1,
   "metadata": {},
   "outputs": [],
   "source": [
    "from timeit import default_timer as timer\n",
    "\n",
    "import pivotamento as piv"
   ]
  },
  {
   "cell_type": "code",
   "execution_count": 2,
   "metadata": {},
   "outputs": [],
   "source": [
    "def isola_incognita(qtd_equacoes, coeficientes, incognitas_anteriores, equacao_atual):\n",
    "    valor_incognita = 0\n",
    "    for coluna in range(qtd_equacoes):\n",
    "        if coluna != equacao_atual:\n",
    "                valor_incognita += coeficientes[equacao_atual][coluna] * incognitas_anteriores[coluna]\n",
    "    valor_incognita = ((-1 * valor_incognita + coeficientes[equacao_atual][-1]) / \n",
    "                       coeficientes[equacao_atual][equacao_atual])\n",
    "    return valor_incognita"
   ]
  },
  {
   "cell_type": "code",
   "execution_count": 3,
   "metadata": {},
   "outputs": [],
   "source": [
    "def tolerancia_atual(incognitas_atuais, incognitas_anteriores):\n",
    "    maximo_atual = incognitas_atuais[0]\n",
    "    maximo_anterior = incognitas_anteriores[0]\n",
    "    for incognita in range(1, len(incognitas_atuais)):\n",
    "        if incognitas_anteriores[incognita] > maximo_anterior:\n",
    "            maximo_anterior = incognitas_anteriores[incognita]\n",
    "        if incognitas_atuais[incognita] > maximo_atual:\n",
    "            maximo_atual = incognitas_atuais[incognita]\n",
    "    tolerancia_atual = abs((maximo_atual - maximo_anterior))\n",
    "    return tolerancia_atual"
   ]
  },
  {
   "cell_type": "code",
   "execution_count": 4,
   "metadata": {},
   "outputs": [],
   "source": [
    "def metodo_jacobi(qtd_equacoes, coeficientes, tolerancia, iteracoes_maximas):\n",
    "    incognitas = [0 for i in range(qtd_equacoes)]\n",
    "    iteracao = 1\n",
    "    while iteracao <= iteracoes_maximas:\n",
    "        incognitas_anteriores = incognitas.copy()\n",
    "        for incognita_atual in range(qtd_equacoes):\n",
    "            incognitas[incognita_atual] = isola_incognita(qtd_equacoes, coeficientes, incognitas_anteriores, incognita_atual)\n",
    "        if tolerancia_atual(incognitas, incognitas_anteriores) < tolerancia:\n",
    "            return iteracao, incognitas, \"Sucesso no procedimento!\"\n",
    "        iteracao += 1\n",
    "    return iteracao-1, incognitas, \"Maximo de iteracoes atingido!\""
   ]
  },
  {
   "cell_type": "markdown",
   "metadata": {},
   "source": [
    "# Caso teoria do material de aula"
   ]
  },
  {
   "cell_type": "code",
   "execution_count": 5,
   "metadata": {},
   "outputs": [
    {
     "name": "stdout",
     "output_type": "stream",
     "text": [
      "Iterações realizadas: 10\n",
      "Incognitas: [1.0001185986914152, 1.9997679470100354, -0.9998281428744763, 0.9997859784600501]\n",
      "Sucesso no procedimento!\n"
     ]
    }
   ],
   "source": [
    "iteracoes, incognitas, mensagem = metodo_jacobi(4, [[ 10, -1,  2,  0,   6], \n",
    "                                                    [-1, 11, -1,  3,  25], \n",
    "                                                    [ 2, -1, 10, -1, -11], \n",
    "                                                    [ 0,  3, -1,  8,  15]], 10**(-3), 10)\n",
    "print(f'Iterações realizadas: {iteracoes}')\n",
    "print(f'Incognitas: {incognitas}')\n",
    "print(mensagem)"
   ]
  },
  {
   "cell_type": "markdown",
   "metadata": {},
   "source": [
    "# Exercicio Tutoriado"
   ]
  },
  {
   "cell_type": "code",
   "execution_count": 6,
   "metadata": {},
   "outputs": [
    {
     "name": "stdout",
     "output_type": "stream",
     "text": [
      "Iterações realizadas: 5\n",
      "Incognitas: [0.4375, 1.1875]\n",
      "Sucesso no procedimento!\n"
     ]
    }
   ],
   "source": [
    "iteracoes, incognitas, mensagem = metodo_jacobi(2, [[2,  1,  2], \n",
    "                                                    [1, -2, -2]], 0.1, 10)\n",
    "print(f'Iterações realizadas: {iteracoes}')\n",
    "print(f'Incognitas: {incognitas}')\n",
    "print(mensagem)"
   ]
  },
  {
   "cell_type": "markdown",
   "metadata": {},
   "source": [
    "# Exercicio 2"
   ]
  },
  {
   "cell_type": "code",
   "execution_count": 7,
   "metadata": {},
   "outputs": [
    {
     "name": "stdout",
     "output_type": "stream",
     "text": [
      "Iterações realizadas: 4\n",
      "Incognitas: [0.040816326530612256, -0.2568027210884354, 0.6326530612244898]\n",
      "Sucesso no procedimento!\n"
     ]
    }
   ],
   "source": [
    "iteracoes, incognitas, mensagem = metodo_jacobi(3, [[3, -1, 1, 1], \n",
    "                                                    [3,  6, 2, 0], \n",
    "                                                    [3,  3, 7, 4]], 0.1, 10) \n",
    "print(f'Iterações realizadas: {iteracoes}')\n",
    "print(f'Incognitas: {incognitas}')\n",
    "print(mensagem)"
   ]
  },
  {
   "cell_type": "markdown",
   "metadata": {},
   "source": [
    "# Exercicio 3, 4 e 5"
   ]
  },
  {
   "cell_type": "markdown",
   "metadata": {},
   "source": [
    "# a)"
   ]
  },
  {
   "cell_type": "code",
   "execution_count": 8,
   "metadata": {},
   "outputs": [
    {
     "name": "stdout",
     "output_type": "stream",
     "text": [
      "Tolerancia utilizada: 0.1\n",
      "Iterações realizadas: 3\n",
      "Incognitas: [1.1875, 1.8125, 0.875]\n",
      "Tempo decorrido: 0.000066 segundos\n",
      "Sucesso no procedimento!\n"
     ]
    }
   ],
   "source": [
    "coeficientes = [[1, -1, 3,  2], \n",
    "                [3, -3, 1, -1], \n",
    "                [1,  1, 0,  3]]\n",
    "piv.pivotamento(3, coeficientes)\n",
    "tolerancia = 0.1\n",
    "inicio = timer()\n",
    "iteracoes, incognitas, mensagem = metodo_jacobi(3, coeficientes, tolerancia, 3)\n",
    "fim = timer()\n",
    "print(f'Tolerancia utilizada: {tolerancia}')\n",
    "print(f'Iterações realizadas: {iteracoes}')\n",
    "print(f'Incognitas: {incognitas}')\n",
    "print(f'Tempo decorrido: {(fim - inicio):5f} segundos')\n",
    "print(mensagem)"
   ]
  },
  {
   "cell_type": "code",
   "execution_count": 9,
   "metadata": {},
   "outputs": [
    {
     "name": "stdout",
     "output_type": "stream",
     "text": [
      "Tolerancia utilizada: 0.01\n",
      "Iterações realizadas: 3\n",
      "Incognitas: [1.1875, 1.8125, 0.875]\n",
      "Tempo decorrido: 0.000069 segundos\n",
      "Sucesso no procedimento!\n"
     ]
    }
   ],
   "source": [
    "coeficientes = [[1, -1, 3,  2], \n",
    "                [3, -3, 1, -1], \n",
    "                [1,  1, 0,  3]]\n",
    "piv.pivotamento(3, coeficientes)\n",
    "tolerancia = tolerancia / 10\n",
    "inicio = timer()\n",
    "iteracoes, incognitas, mensagem = metodo_jacobi(3, coeficientes, tolerancia, 3)\n",
    "fim = timer()\n",
    "print(f'Tolerancia utilizada: {tolerancia}')\n",
    "print(f'Iterações realizadas: {iteracoes}')\n",
    "print(f'Incognitas: {incognitas}')\n",
    "print(f'Tempo decorrido: {(fim - inicio):5f} segundos')\n",
    "print(mensagem)"
   ]
  },
  {
   "cell_type": "code",
   "execution_count": 10,
   "metadata": {},
   "outputs": [
    {
     "name": "stdout",
     "output_type": "stream",
     "text": [
      "Tolerancia utilizada: 0.001\n",
      "Iterações realizadas: 3\n",
      "Incognitas: [1.1875, 1.8125, 0.875]\n",
      "Tempo decorrido: 0.000067 segundos\n",
      "Sucesso no procedimento!\n"
     ]
    }
   ],
   "source": [
    "coeficientes = [[1, -1, 3,  2], \n",
    "                [3, -3, 1, -1], \n",
    "                [1,  1, 0,  3]]\n",
    "piv.pivotamento(3, coeficientes)\n",
    "tolerancia = tolerancia / 10\n",
    "inicio = timer()\n",
    "iteracoes, incognitas, mensagem = metodo_jacobi(3, coeficientes, tolerancia, 3)\n",
    "fim = timer()\n",
    "print(f'Tolerancia utilizada: {tolerancia}')\n",
    "print(f'Iterações realizadas: {iteracoes}')\n",
    "print(f'Incognitas: {incognitas}')\n",
    "print(f'Tempo decorrido: {(fim - inicio):5f} segundos')\n",
    "print(mensagem)"
   ]
  },
  {
   "cell_type": "markdown",
   "metadata": {},
   "source": [
    "# b)"
   ]
  },
  {
   "cell_type": "code",
   "execution_count": 11,
   "metadata": {},
   "outputs": [
    {
     "name": "stdout",
     "output_type": "stream",
     "text": [
      "Tolerancia utilizada: 0.1\n",
      "Iterações realizadas: 2\n",
      "Incognitas: [-4.5, -0.0, 1.0]\n",
      "Tempo decorrido: 0.000106 segundos\n",
      "Sucesso no procedimento!\n"
     ]
    }
   ],
   "source": [
    "coeficientes = [[  2, -1.5, 3, 1], \n",
    "                [-1,    0, 2, 3], \n",
    "                [ 4, -4.5, 5, 1]]\n",
    "piv.pivotamento(3, coeficientes)\n",
    "tolerancia = 0.1\n",
    "inicio = timer()\n",
    "iteracoes, incognitas, mensagem = metodo_jacobi(3, coeficientes, tolerancia, 2)\n",
    "fim = timer()\n",
    "print(f'Tolerancia utilizada: {tolerancia}')\n",
    "print(f'Iterações realizadas: {iteracoes}')\n",
    "print(f'Incognitas: {incognitas}')\n",
    "print(f'Tempo decorrido: {(fim - inicio):5f} segundos')\n",
    "print(mensagem)"
   ]
  },
  {
   "cell_type": "code",
   "execution_count": 12,
   "metadata": {},
   "outputs": [
    {
     "name": "stdout",
     "output_type": "stream",
     "text": [
      "Tolerancia utilizada: 0.01\n",
      "Iterações realizadas: 2\n",
      "Incognitas: [-4.5, -0.0, 1.0]\n",
      "Tempo decorrido: 0.000110 segundos\n",
      "Sucesso no procedimento!\n"
     ]
    }
   ],
   "source": [
    "coeficientes = [[  2, -1.5, 3, 1], \n",
    "                [-1,    0, 2, 3], \n",
    "                [ 4, -4.5, 5, 1]]\n",
    "piv.pivotamento(3, coeficientes)\n",
    "tolerancia = tolerancia / 10\n",
    "inicio = timer()\n",
    "iteracoes, incognitas, mensagem = metodo_jacobi(3, coeficientes, tolerancia, 2)\n",
    "fim = timer()\n",
    "print(f'Tolerancia utilizada: {tolerancia}')\n",
    "print(f'Iterações realizadas: {iteracoes}')\n",
    "print(f'Incognitas: {incognitas}')\n",
    "print(f'Tempo decorrido: {(fim - inicio):5f} segundos')\n",
    "print(mensagem)"
   ]
  },
  {
   "cell_type": "code",
   "execution_count": 13,
   "metadata": {},
   "outputs": [
    {
     "name": "stdout",
     "output_type": "stream",
     "text": [
      "Tolerancia utilizada: 0.001\n",
      "Iterações realizadas: 2\n",
      "Incognitas: [-4.5, -0.0, 1.0]\n",
      "Tempo decorrido: 0.000066 segundos\n",
      "Sucesso no procedimento!\n"
     ]
    }
   ],
   "source": [
    "coeficientes = [[  2, -1.5, 3, 1], \n",
    "                [-1,    0, 2, 3], \n",
    "                [ 4, -4.5, 5, 1]]\n",
    "piv.pivotamento(3, coeficientes)\n",
    "tolerancia = tolerancia / 10\n",
    "inicio = timer()\n",
    "iteracoes, incognitas, mensagem = metodo_jacobi(3, coeficientes, tolerancia, 2)\n",
    "fim = timer()\n",
    "print(f'Tolerancia utilizada: {tolerancia}')\n",
    "print(f'Iterações realizadas: {iteracoes}')\n",
    "print(f'Incognitas: {incognitas}')\n",
    "print(f'Tempo decorrido: {(fim - inicio):5f} segundos')\n",
    "print(mensagem)"
   ]
  },
  {
   "cell_type": "markdown",
   "metadata": {},
   "source": [
    "# c)"
   ]
  },
  {
   "cell_type": "code",
   "execution_count": 14,
   "metadata": {},
   "outputs": [
    {
     "name": "stdout",
     "output_type": "stream",
     "text": [
      "Tolerancia utilizada: 0.1\n",
      "Iterações realizadas: 2\n",
      "Incognitas: [1.5, 2.0, -1.1999999999999993, 2.999999999999999]\n",
      "Tempo decorrido: 0.000069 segundos\n",
      "Sucesso no procedimento!\n"
     ]
    }
   ],
   "source": [
    "coeficientes = [[ 2,   0,   0, 0,    3], \n",
    "                [1, 1.5,   0, 0,  4.5], \n",
    "                [0,  -3, 0.5, 0, -6.6],\n",
    "                [2,  -2,   1, 1,  0.8]]\n",
    "piv.pivotamento(4, coeficientes)\n",
    "tolerancia = 0.1\n",
    "inicio = timer()\n",
    "iteracoes, incognitas, mensagem = metodo_jacobi(4, coeficientes, tolerancia, 2)\n",
    "fim = timer()\n",
    "print(f'Tolerancia utilizada: {tolerancia}')\n",
    "print(f'Iterações realizadas: {iteracoes}')\n",
    "print(f'Incognitas: {incognitas}')\n",
    "print(f'Tempo decorrido: {(fim - inicio):5f} segundos')\n",
    "print(mensagem)"
   ]
  },
  {
   "cell_type": "code",
   "execution_count": 15,
   "metadata": {},
   "outputs": [
    {
     "name": "stdout",
     "output_type": "stream",
     "text": [
      "Tolerancia utilizada: 0.01\n",
      "Iterações realizadas: 2\n",
      "Incognitas: [1.5, 2.0, -1.1999999999999993, 2.999999999999999]\n",
      "Tempo decorrido: 0.000068 segundos\n",
      "Sucesso no procedimento!\n"
     ]
    }
   ],
   "source": [
    "coeficientes = [[ 2,   0,   0, 0,    3], \n",
    "                [1, 1.5,   0, 0,  4.5], \n",
    "                [0,  -3, 0.5, 0, -6.6],\n",
    "                [2,  -2,   1, 1,  0.8]]\n",
    "piv.pivotamento(4, coeficientes)\n",
    "tolerancia = tolerancia / 10\n",
    "inicio = timer()\n",
    "iteracoes, incognitas, mensagem = metodo_jacobi(4, coeficientes, tolerancia, 2)\n",
    "fim = timer()\n",
    "print(f'Tolerancia utilizada: {tolerancia}')\n",
    "print(f'Iterações realizadas: {iteracoes}')\n",
    "print(f'Incognitas: {incognitas}')\n",
    "print(f'Tempo decorrido: {(fim - inicio):5f} segundos')\n",
    "print(mensagem)"
   ]
  },
  {
   "cell_type": "code",
   "execution_count": 16,
   "metadata": {},
   "outputs": [
    {
     "name": "stdout",
     "output_type": "stream",
     "text": [
      "Tolerancia utilizada: 0.001\n",
      "Iterações realizadas: 2\n",
      "Incognitas: [1.5, 2.0, -1.1999999999999993, 2.999999999999999]\n",
      "Tempo decorrido: 0.000070 segundos\n",
      "Sucesso no procedimento!\n"
     ]
    }
   ],
   "source": [
    "coeficientes = [[ 2,   0,   0, 0,    3], \n",
    "                [1, 1.5,   0, 0,  4.5], \n",
    "                [0,  -3, 0.5, 0, -6.6],\n",
    "                [2,  -2,   1, 1,  0.8]]\n",
    "piv.pivotamento(4, coeficientes)\n",
    "tolerancia = tolerancia / 10\n",
    "inicio = timer()\n",
    "iteracoes, incognitas, mensagem = metodo_jacobi(4, coeficientes, tolerancia, 2)\n",
    "fim = timer()\n",
    "print(f'Tolerancia utilizada: {tolerancia}')\n",
    "print(f'Iterações realizadas: {iteracoes}')\n",
    "print(f'Incognitas: {incognitas}')\n",
    "print(f'Tempo decorrido: {(fim - inicio):5f} segundos')\n",
    "print(mensagem)"
   ]
  },
  {
   "cell_type": "markdown",
   "metadata": {},
   "source": [
    "# d)"
   ]
  },
  {
   "cell_type": "code",
   "execution_count": 17,
   "metadata": {},
   "outputs": [
    {
     "name": "stdout",
     "output_type": "stream",
     "text": [
      "Tolerancia utilizada: 0.1\n",
      "Iterações realizadas: 100\n",
      "Incognitas: [-6.053088416366129e+31, -9.593782212774168e+31, 4.972404420169296e+31, -3.202057521965278e+31]\n",
      "Tempo decorrido: 0.000462 segundos\n",
      "Maximo de iteracoes atingido!\n"
     ]
    }
   ],
   "source": [
    "coeficientes = [[ 1,  1,  0, 1,  2], \n",
    "                [2,  1, -1, 1,  1], \n",
    "                [4, -1, -2, 2,  0], \n",
    "                [3, -1, -1, 2, -3]]\n",
    "tolerancia = 0.1\n",
    "inicio = timer()\n",
    "iteracoes, incognitas, mensagem = metodo_jacobi(4, coeficientes, tolerancia, 100)\n",
    "fim = timer()\n",
    "print(f'Tolerancia utilizada: {tolerancia}')\n",
    "print(f'Iterações realizadas: {iteracoes}')\n",
    "print(f'Incognitas: {incognitas}')\n",
    "print(f'Tempo decorrido: {(fim - inicio):5f} segundos')\n",
    "print(mensagem)"
   ]
  },
  {
   "cell_type": "code",
   "execution_count": 18,
   "metadata": {},
   "outputs": [
    {
     "name": "stdout",
     "output_type": "stream",
     "text": [
      "Tolerancia utilizada: 0.01\n",
      "Iterações realizadas: 100\n",
      "Incognitas: [-6.053088416366129e+31, -9.593782212774168e+31, 4.972404420169296e+31, -3.202057521965278e+31]\n",
      "Tempo decorrido: 0.000465 segundos\n",
      "Maximo de iteracoes atingido!\n"
     ]
    }
   ],
   "source": [
    "coeficientes = [[ 1,  1,  0, 1,  2], \n",
    "                [2,  1, -1, 1,  1], \n",
    "                [4, -1, -2, 2,  0], \n",
    "                [3, -1, -1, 2, -3]]\n",
    "tolerancia = tolerancia / 10\n",
    "inicio = timer()\n",
    "iteracoes, incognitas, mensagem = metodo_jacobi(4, coeficientes, tolerancia, 100)\n",
    "fim = timer()\n",
    "print(f'Tolerancia utilizada: {tolerancia}')\n",
    "print(f'Iterações realizadas: {iteracoes}')\n",
    "print(f'Incognitas: {incognitas}')\n",
    "print(f'Tempo decorrido: {(fim - inicio):5f} segundos')\n",
    "print(mensagem)"
   ]
  },
  {
   "cell_type": "code",
   "execution_count": 19,
   "metadata": {},
   "outputs": [
    {
     "name": "stdout",
     "output_type": "stream",
     "text": [
      "Tolerancia utilizada: 0.001\n",
      "Iterações realizadas: 100\n",
      "Incognitas: [-6.053088416366129e+31, -9.593782212774168e+31, 4.972404420169296e+31, -3.202057521965278e+31]\n",
      "Tempo decorrido: 0.000480 segundos\n",
      "Maximo de iteracoes atingido!\n"
     ]
    }
   ],
   "source": [
    "coeficientes = [[ 1,  1,  0, 1,  2], \n",
    "                [2,  1, -1, 1,  1], \n",
    "                [4, -1, -2, 2,  0], \n",
    "                [3, -1, -1, 2, -3]]\n",
    "tolerancia = tolerancia / 10\n",
    "inicio = timer()\n",
    "iteracoes, incognitas, mensagem = metodo_jacobi(4, coeficientes, tolerancia, 100)\n",
    "fim = timer()\n",
    "print(f'Tolerancia utilizada: {tolerancia}')\n",
    "print(f'Iterações realizadas: {iteracoes}')\n",
    "print(f'Incognitas: {incognitas}')\n",
    "print(f'Tempo decorrido: {(fim - inicio):5f} segundos')\n",
    "print(mensagem)"
   ]
  },
  {
   "cell_type": "code",
   "execution_count": null,
   "metadata": {},
   "outputs": [],
   "source": []
  }
 ],
 "metadata": {
  "kernelspec": {
   "display_name": "Python 3",
   "language": "python",
   "name": "python3"
  },
  "language_info": {
   "codemirror_mode": {
    "name": "ipython",
    "version": 3
   },
   "file_extension": ".py",
   "mimetype": "text/x-python",
   "name": "python",
   "nbconvert_exporter": "python",
   "pygments_lexer": "ipython3",
   "version": "3.8.2"
  }
 },
 "nbformat": 4,
 "nbformat_minor": 4
}
