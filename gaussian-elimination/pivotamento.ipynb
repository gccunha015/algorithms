{
 "cells": [
  {
   "cell_type": "markdown",
   "metadata": {},
   "source": [
    "# Versao do Python utilizada: 3.8.2"
   ]
  },
  {
   "cell_type": "markdown",
   "metadata": {},
   "source": [
    "# Modulo criada por mim, que contem funcoes necessarias para resolver os problemas de sistemas lineares ja no formato triangular"
   ]
  },
  {
   "cell_type": "code",
   "execution_count": 12,
   "metadata": {},
   "outputs": [],
   "source": [
    "import triangular"
   ]
  },
  {
   "cell_type": "markdown",
   "metadata": {},
   "source": [
    "# Funcoes necessarias para transformar uma matriz aumentada qualquer em uma matriz aumentada no formato triangular"
   ]
  },
  {
   "cell_type": "code",
   "execution_count": 13,
   "metadata": {},
   "outputs": [],
   "source": [
    "# escolhe a linha com o menor coeficiente diferente de 0\n",
    "def menor_linha(quantidade_equacoes, coeficientes, coluna):\n",
    "    for linha in range(coluna, quantidade_equacoes):\n",
    "        if coeficientes[linha][coluna] != 0:\n",
    "            return linha\n",
    "    return -1\n",
    "\n",
    "# realiza a troca de linhas\n",
    "def troca_elementos(coeficientes, coluna, p):\n",
    "    auxiliar = coeficientes[coluna]\n",
    "    coeficientes[coluna] = coeficientes[p]\n",
    "    coeficientes[p] = auxiliar\n",
    "\n",
    "# para cada equacao, realiza a operacao para anular os coeficientes necessarios\n",
    "def efetua_operacoes(quantidade_equacoes, coeficientes, linha, coluna):\n",
    "    multiplicador = coeficientes[linha][coluna] / coeficientes[coluna][coluna]\n",
    "    for i in range(quantidade_equacoes+1):\n",
    "        coeficientes[linha][i] -= multiplicador * coeficientes[coluna][i]\n",
    "\n",
    "# realiza o processo inteiro de pivotamento da matriz\n",
    "def pivotamento(quantidade_equacoes, coeficientes):\n",
    "    incognitas = [0 for i in range(quantidade_equacoes)]\n",
    "    for coluna in range(quantidade_equacoes):\n",
    "        p = menor_linha(quantidade_equacoes, coeficientes, coluna)\n",
    "        if p == -1:\n",
    "            return -1, incognitas\n",
    "        if p != coluna:\n",
    "            troca_elementos(coeficientes, coluna, p)\n",
    "        for linha in range(coluna+1, quantidade_equacoes):\n",
    "            efetua_operacoes(quantidade_equacoes, coeficientes, linha, coluna)\n",
    "    if coeficientes[quantidade_equacoes-1][quantidade_equacoes-1] == 0:\n",
    "        return -1, incognitas\n",
    "    incognitas = triangular.triangular(quantidade_equacoes, coeficientes)\n",
    "    return 0, incognitas"
   ]
  },
  {
   "cell_type": "markdown",
   "metadata": {},
   "source": [
    "# Funcao principal que roda o programa"
   ]
  },
  {
   "cell_type": "code",
   "execution_count": 19,
   "metadata": {},
   "outputs": [],
   "source": [
    "def main(matriz):\n",
    "    triangular.imprime_matriz_aumentada(coeficientes)\n",
    "    print('Pivotando...')\n",
    "    respostas = pivotamento(len(coeficientes), coeficientes)\n",
    "    if respostas[0] == 0:\n",
    "        triangular.imprime_matriz_aumentada(coeficientes)\n",
    "        triangular.imprime_incognitas(respostas[1])\n",
    "    else:\n",
    "        print('Não ha solucoes unicas existentes.')"
   ]
  },
  {
   "cell_type": "markdown",
   "metadata": {},
   "source": [
    "# Exemplo visto no material da aula"
   ]
  },
  {
   "cell_type": "code",
   "execution_count": 20,
   "metadata": {},
   "outputs": [
    {
     "name": "stdout",
     "output_type": "stream",
     "text": [
      "Matriz Aumentada:\n",
      "    1    -1     2    -1 |    -8 \n",
      "    2    -2     3    -3 |   -20 \n",
      "    1     1     1     0 |    -2 \n",
      "    1    -1     4     3 |     4 \n",
      "Pivotando...\n",
      "Matriz Aumentada:\n",
      "    1    -1     2    -1 |    -8 \n",
      "  0.0   2.0  -1.0   1.0 |   6.0 \n",
      "  0.0   0.0  -1.0  -1.0 |  -4.0 \n",
      "  0.0   0.0   0.0   2.0 |   4.0 \n",
      "Incognitas:\n",
      "x1:  -7.0\n",
      "x2:   3.0\n",
      "x3:   2.0\n",
      "x4:   2.0\n"
     ]
    }
   ],
   "source": [
    "coeficientes = [[  1,  -1,   2,  -1,  -8], \n",
    "                [  2,  -2,   3,  -3, -20], \n",
    "                [  1,   1,   1,   0,  -2], \n",
    "                [  1,  -1,   4,   3,   4]]\n",
    "main(coeficientes)"
   ]
  },
  {
   "cell_type": "markdown",
   "metadata": {},
   "source": [
    "# Exercicio 3.a)"
   ]
  },
  {
   "cell_type": "code",
   "execution_count": 21,
   "metadata": {},
   "outputs": [
    {
     "name": "stdout",
     "output_type": "stream",
     "text": [
      "Matriz Aumentada:\n",
      "    1    -1     3 |     2 \n",
      "    3    -3     1 |    -1 \n",
      "    1     1     0 |     3 \n",
      "Pivotando...\n",
      "Matriz Aumentada:\n",
      "    1    -1     3 |     2 \n",
      "  0.0   2.0  -3.0 |   1.0 \n",
      "  0.0   0.0  -8.0 |  -7.0 \n",
      "Incognitas:\n",
      "x1: 1.1875\n",
      "x2: 1.8125\n",
      "x3: 0.875\n"
     ]
    }
   ],
   "source": [
    "coeficientes = [[ 1, -1,  3,  2], \n",
    "                [3, -3,  1, -1], \n",
    "                [1,  1,  0,  3]]\n",
    "main(coeficientes)"
   ]
  },
  {
   "cell_type": "markdown",
   "metadata": {},
   "source": [
    "# Exercicio 3.b)"
   ]
  },
  {
   "cell_type": "code",
   "execution_count": 23,
   "metadata": {},
   "outputs": [
    {
     "name": "stdout",
     "output_type": "stream",
     "text": [
      "Matriz Aumentada:\n",
      "    2  -1.5     3 |     1 \n",
      "   -1     0     2 |     3 \n",
      "    4  -4.5     5 |     1 \n",
      "Pivotando...\n",
      "Matriz Aumentada:\n",
      "    2  -1.5     3 |     1 \n",
      "  0.0 -0.75   3.5 |   3.5 \n",
      "  0.0   0.0  -8.0 |  -8.0 \n",
      "Incognitas:\n",
      "x1:  -1.0\n",
      "x2:  -0.0\n",
      "x3:   1.0\n"
     ]
    }
   ],
   "source": [
    "coeficientes = [[  2, -1.5, 3, 1], \n",
    "                [-1,    0, 2, 3], \n",
    "                [ 4, -4.5, 5, 1]]\n",
    "main(coeficientes)"
   ]
  },
  {
   "cell_type": "markdown",
   "metadata": {},
   "source": [
    "# Exercicio 3.c)"
   ]
  },
  {
   "cell_type": "code",
   "execution_count": 22,
   "metadata": {},
   "outputs": [
    {
     "name": "stdout",
     "output_type": "stream",
     "text": [
      "Matriz Aumentada:\n",
      "    2     0     0     0 |     3 \n",
      "    1   1.5     0     0 |   4.5 \n",
      "    0    -3   0.5     0 |  -6.6 \n",
      "    2    -2     1     1 |   0.8 \n",
      "Pivotando...\n",
      "Matriz Aumentada:\n",
      "    2     0     0     0 |     3 \n",
      "  0.0   1.5   0.0   0.0 |   3.0 \n",
      "  0.0   0.0   0.5   0.0 | -0.5999999999999996 \n",
      "  0.0   0.0   0.0   1.0 | 2.999999999999999 \n",
      "Incognitas:\n",
      "x1:   1.5\n",
      "x2:   2.0\n",
      "x3: -1.1999999999999993\n",
      "x4: 2.999999999999999\n"
     ]
    }
   ],
   "source": [
    "coeficientes = [[ 2,   0,   0, 0,    3], \n",
    "                [1, 1.5,   0, 0,  4.5], \n",
    "                [0,  -3, 0.5, 0, -6.6], \n",
    "                [2,  -2,   1, 1,  0.8]]\n",
    "main(coeficientes)"
   ]
  },
  {
   "cell_type": "markdown",
   "metadata": {},
   "source": [
    "# Exercicio 3.d)"
   ]
  },
  {
   "cell_type": "code",
   "execution_count": 24,
   "metadata": {},
   "outputs": [
    {
     "name": "stdout",
     "output_type": "stream",
     "text": [
      "Matriz Aumentada:\n",
      "    1     1     0     1 |     2 \n",
      "    2     1    -1     1 |     1 \n",
      "    4    -1    -2     2 |     0 \n",
      "    3    -1    -1     2 |    -3 \n",
      "Pivotando...\n",
      "Não ha solucoes unicas existentes.\n"
     ]
    }
   ],
   "source": [
    "coeficientes = [[ 1,  1,  0, 1,  2], \n",
    "                [2,  1, -1, 1,  1], \n",
    "                [4, -1, -2, 2,  0], \n",
    "                [3, -1, -1, 2, -3]]\n",
    "main(coeficientes)"
   ]
  },
  {
   "cell_type": "code",
   "execution_count": null,
   "metadata": {},
   "outputs": [],
   "source": []
  }
 ],
 "metadata": {
  "kernelspec": {
   "display_name": "Python 3",
   "language": "python",
   "name": "python3"
  },
  "language_info": {
   "codemirror_mode": {
    "name": "ipython",
    "version": 3
   },
   "file_extension": ".py",
   "mimetype": "text/x-python",
   "name": "python",
   "nbconvert_exporter": "python",
   "pygments_lexer": "ipython3",
   "version": "3.8.2"
  }
 },
 "nbformat": 4,
 "nbformat_minor": 4
}
