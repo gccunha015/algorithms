{
 "cells": [
  {
   "cell_type": "code",
   "execution_count": 1,
   "metadata": {},
   "outputs": [],
   "source": [
    "from math import e, cos, sin"
   ]
  },
  {
   "cell_type": "code",
   "execution_count": 2,
   "metadata": {},
   "outputs": [],
   "source": [
    "def funcao_x(coeficientes, expoentes, x, op=0):\n",
    "    for i in range(len(coeficientes)):\n",
    "        if i == 0:\n",
    "            if op == 1:\n",
    "                solucao = -1*(coeficientes[i]**(expoentes[i] * x))\n",
    "            elif op == 2:\n",
    "                solucao = coeficientes[i]**(expoentes[i] * x)\n",
    "            elif op == 3:\n",
    "                solucao = (coeficientes[i] * cos(coeficientes[i] * x))**expoentes[i]\n",
    "            else:\n",
    "                solucao = coeficientes[i] * (x**expoentes[i])\n",
    "        else:\n",
    "            solucao += coeficientes[i] * (x**expoentes[i])\n",
    "    return solucao"
   ]
  },
  {
   "cell_type": "code",
   "execution_count": 3,
   "metadata": {},
   "outputs": [],
   "source": [
    "def derivada_funcao_x(coeficientes, expoentes, x, op=0):\n",
    "    solucao = 0\n",
    "    for i in range(len(coeficientes)):\n",
    "        if expoentes[i] == 0:\n",
    "            solucao += 0\n",
    "        else:\n",
    "            if i == 0:\n",
    "                if op == 1:\n",
    "                    solucao = -1*(coeficientes[i]**(expoentes[i] * x))\n",
    "                elif op == 2:\n",
    "                    solucao = coeficientes[i]**(expoentes[i] * x)\n",
    "                elif op == 3:\n",
    "                    solucao = (coeficientes[i] * -1 * sin(coeficientes[i] * x))**expoentes[i]\n",
    "                else:\n",
    "                    solucao = expoentes[i] * coeficientes[i] * (x**(expoentes[i]-1))\n",
    "            else:\n",
    "                solucao += expoentes[i] * coeficientes[i] * (x**(expoentes[i]-1))\n",
    "    return solucao"
   ]
  },
  {
   "cell_type": "code",
   "execution_count": 4,
   "metadata": {},
   "outputs": [],
   "source": [
    "def ponto_atual(coeficientes, expoentes, ponto_anterior, op=0):\n",
    "    return ponto_anterior - (funcao_x(coeficientes, expoentes, ponto_anterior, op)/\n",
    "                             derivada_funcao_x(coeficientes, expoentes, ponto_anterior, op))"
   ]
  },
  {
   "cell_type": "code",
   "execution_count": 5,
   "metadata": {},
   "outputs": [],
   "source": [
    "def newton(coeficientes, expoentes, ponto_anterior, tolerancia, iteracoes_maximas, op=0, metodo_tolerancia=0):\n",
    "    tolerancia_atingida = tolerancia\n",
    "    iteracoes = 1\n",
    "    while iteracoes <= iteracoes_maximas:\n",
    "        ponto = ponto_atual(coeficientes, expoentes, ponto_anterior, op)\n",
    "        if(metodo_tolerancia == 0):\n",
    "            tolerancia_atingida = abs(ponto - ponto_anterior)\n",
    "        elif(metodo_tolerancia == 1):\n",
    "            tolerancia_atingida = abs(ponto - ponto_anterior) / abs(ponto)\n",
    "        elif(metodo_tolerancia == 2):\n",
    "            tolerancia_atingida = abs(funcao_x(coeficientes, expoentes, ponto, op))\n",
    "        if(tolerancia_atingida < tolerancia):\n",
    "            return 0, ponto, iteracoes, tolerancia_atingida, \"Procedimento concluído com sucesso!\"\n",
    "        ponto_anterior = ponto\n",
    "        iteracoes += 1\n",
    "    return -1, ponto, iteracoes-1, tolerancia_atingida, \"O procedimento não foi bem-sucedido!\""
   ]
  },
  {
   "cell_type": "code",
   "execution_count": 6,
   "metadata": {},
   "outputs": [],
   "source": [
    "def mostra_resultado(coeficientes, expoentes, extremidade_1_aproximacao, extremidade_2_aproximacao, \n",
    "                     tolerancia, iteracoes_maximas, opcao_funcao):\n",
    "    for metodo_tolerancia in range(3):\n",
    "        if metodo_tolerancia == 0:\n",
    "            print(f\"Para o metodo de tolerancia |pn - pn-1| < tolerancia:\")\n",
    "        elif metodo_tolerancia == 1:\n",
    "            print(f\"Para o metodo de tolerancia (|pn - pn-1|)/|pn| < tolerancia:\")\n",
    "        elif metodo_tolerancia == 2:\n",
    "            print(f\"Para o metodo de tolerancia |f(pn)| < tolerancia:\")\n",
    "        for aproximacao in range(extremidade_1_aproximacao, extremidade_2_aproximacao+1):\n",
    "            print(f\"  Para a aproximação inicial em {aproximacao}, tivemos o seguinte resultado:\")\n",
    "            try:\n",
    "                resultado = newton(coeficientes, expoentes, aproximacao, tolerancia, \n",
    "                                   iteracoes_maximas, opcao_funcao, metodo_tolerancia)\n",
    "                print(f\"   {resultado[4]}\\n\"\n",
    "                      f\"   Ponto {resultado[1]} atingido em {resultado[2]} iterações, \"\n",
    "                      f\"com tolerancia {resultado[3]}.\")\n",
    "            except Exception as ex:\n",
    "                print(f\"   {ex}\")\n",
    "        print(\"\")"
   ]
  },
  {
   "cell_type": "markdown",
   "metadata": {},
   "source": [
    "# Exercicios"
   ]
  },
  {
   "cell_type": "markdown",
   "metadata": {},
   "source": [
    "# a) f(x) = x³ + 4x² - 10"
   ]
  },
  {
   "cell_type": "code",
   "execution_count": 7,
   "metadata": {},
   "outputs": [
    {
     "name": "stdout",
     "output_type": "stream",
     "text": [
      "Para o metodo de tolerancia |pn - pn-1| < tolerancia:\n",
      "  Para a aproximação inicial em 0, tivemos o seguinte resultado:\n",
      "   division by zero\n",
      "  Para a aproximação inicial em 1, tivemos o seguinte resultado:\n",
      "   Procedimento concluído com sucesso!\n",
      "   Ponto 1.3652300134353668 atingido em 4 iterações, com tolerancia 6.586766749139272e-06.\n",
      "\n",
      "Para o metodo de tolerancia (|pn - pn-1|)/|pn| < tolerancia:\n",
      "  Para a aproximação inicial em 0, tivemos o seguinte resultado:\n",
      "   division by zero\n",
      "  Para a aproximação inicial em 1, tivemos o seguinte resultado:\n",
      "   Procedimento concluído com sucesso!\n",
      "   Ponto 1.3652300134353668 atingido em 4 iterações, com tolerancia 4.824657152507807e-06.\n",
      "\n",
      "Para o metodo de tolerancia |f(pn)| < tolerancia:\n",
      "  Para a aproximação inicial em 0, tivemos o seguinte resultado:\n",
      "   division by zero\n",
      "  Para a aproximação inicial em 1, tivemos o seguinte resultado:\n",
      "   Procedimento concluído com sucesso!\n",
      "   Ponto 1.3652300134353668 atingido em 4 iterações, com tolerancia 3.512390378546115e-10.\n",
      "\n"
     ]
    }
   ],
   "source": [
    "coeficientes = [1, 4, -10]\n",
    "expoentes = [3, 2, 0]\n",
    "extremidade_1_aproximacao = 0\n",
    "extremidade_2_aproximacao = 1\n",
    "tolerancia = 10**(-5)\n",
    "iteracoes_maximas = 15\n",
    "opcao_funcao = 0\n",
    "\n",
    "mostra_resultado(coeficientes, expoentes, extremidade_1_aproximacao, extremidade_2_aproximacao, \n",
    "                 tolerancia, iteracoes_maximas, opcao_funcao)"
   ]
  },
  {
   "cell_type": "markdown",
   "metadata": {},
   "source": [
    "# b) f(x) = cosx - x"
   ]
  },
  {
   "cell_type": "code",
   "execution_count": 8,
   "metadata": {},
   "outputs": [
    {
     "name": "stdout",
     "output_type": "stream",
     "text": [
      "Para o metodo de tolerancia |pn - pn-1| < tolerancia:\n",
      "  Para a aproximação inicial em 0, tivemos o seguinte resultado:\n",
      "   Procedimento concluído com sucesso!\n",
      "   Ponto 0.7390851332151607 atingido em 5 iterações, com tolerancia 1.7012335984389892e-10.\n",
      "  Para a aproximação inicial em 1, tivemos o seguinte resultado:\n",
      "   Procedimento concluído com sucesso!\n",
      "   Ponto 0.7390851332151607 atingido em 4 iterações, com tolerancia 1.7012335984389892e-10.\n",
      "\n",
      "Para o metodo de tolerancia (|pn - pn-1|)/|pn| < tolerancia:\n",
      "  Para a aproximação inicial em 0, tivemos o seguinte resultado:\n",
      "   Procedimento concluído com sucesso!\n",
      "   Ponto 0.7390851332151607 atingido em 5 iterações, com tolerancia 2.3018100648815653e-10.\n",
      "  Para a aproximação inicial em 1, tivemos o seguinte resultado:\n",
      "   Procedimento concluído com sucesso!\n",
      "   Ponto 0.7390851332151607 atingido em 4 iterações, com tolerancia 2.3018100648815653e-10.\n",
      "\n",
      "Para o metodo de tolerancia |f(pn)| < tolerancia:\n",
      "  Para a aproximação inicial em 0, tivemos o seguinte resultado:\n",
      "   Procedimento concluído com sucesso!\n",
      "   Ponto 0.739085133385284 atingido em 4 iterações, com tolerancia 2.847205804457076e-10.\n",
      "  Para a aproximação inicial em 1, tivemos o seguinte resultado:\n",
      "   Procedimento concluído com sucesso!\n",
      "   Ponto 0.739085133385284 atingido em 3 iterações, com tolerancia 2.847205804457076e-10.\n",
      "\n"
     ]
    }
   ],
   "source": [
    "coeficientes = [1, -1]\n",
    "expoentes = [1, 1]\n",
    "extremidade_1_aproximacao = 0\n",
    "extremidade_2_aproximacao = 1\n",
    "tolerancia = 10**(-5)\n",
    "iteracoes_maximas = 15\n",
    "opcao_funcao = 3\n",
    "\n",
    "mostra_resultado(coeficientes, expoentes, extremidade_1_aproximacao, extremidade_2_aproximacao, \n",
    "                 tolerancia, iteracoes_maximas, opcao_funcao)"
   ]
  },
  {
   "cell_type": "markdown",
   "metadata": {},
   "source": [
    "# c) f(x) = x³ - 2x² - 5"
   ]
  },
  {
   "cell_type": "code",
   "execution_count": 9,
   "metadata": {},
   "outputs": [
    {
     "name": "stdout",
     "output_type": "stream",
     "text": [
      "Para o metodo de tolerancia |pn - pn-1| < tolerancia:\n",
      "  Para a aproximação inicial em 1, tivemos o seguinte resultado:\n",
      "   Procedimento concluído com sucesso!\n",
      "   Ponto 2.6906474480286287 atingido em 22 iterações, com tolerancia 1.6226605259461735e-07.\n",
      "  Para a aproximação inicial em 2, tivemos o seguinte resultado:\n",
      "   Procedimento concluído com sucesso!\n",
      "   Ponto 2.690647448028614 atingido em 6 iterações, com tolerancia 4.890048366235078e-10.\n",
      "  Para a aproximação inicial em 3, tivemos o seguinte resultado:\n",
      "   Procedimento concluído com sucesso!\n",
      "   Ponto 2.690647448028769 atingido em 4 iterações, com tolerancia 5.289012472431409e-07.\n",
      "  Para a aproximação inicial em 4, tivemos o seguinte resultado:\n",
      "   Procedimento concluído com sucesso!\n",
      "   Ponto 2.690647448072441 atingido em 5 iterações, com tolerancia 8.892788559755616e-06.\n",
      "\n",
      "Para o metodo de tolerancia (|pn - pn-1|)/|pn| < tolerancia:\n",
      "  Para a aproximação inicial em 1, tivemos o seguinte resultado:\n",
      "   Procedimento concluído com sucesso!\n",
      "   Ponto 2.6906474480286287 atingido em 22 iterações, com tolerancia 6.030743742124436e-08.\n",
      "  Para a aproximação inicial em 2, tivemos o seguinte resultado:\n",
      "   Procedimento concluído com sucesso!\n",
      "   Ponto 2.690647448028614 atingido em 6 iterações, com tolerancia 1.8174244157546256e-10.\n",
      "  Para a aproximação inicial em 3, tivemos o seguinte resultado:\n",
      "   Procedimento concluído com sucesso!\n",
      "   Ponto 2.690647448028769 atingido em 4 iterações, com tolerancia 1.9657025212672373e-07.\n",
      "  Para a aproximação inicial em 4, tivemos o seguinte resultado:\n",
      "   Procedimento concluído com sucesso!\n",
      "   Ponto 2.690647448072441 atingido em 5 iterações, com tolerancia 3.305073864703583e-06.\n",
      "\n",
      "Para o metodo de tolerancia |f(pn)| < tolerancia:\n",
      "  Para a aproximação inicial em 1, tivemos o seguinte resultado:\n",
      "   Procedimento concluído com sucesso!\n",
      "   Ponto 2.6906476102946812 atingido em 21 iterações, com tolerancia 1.7778133631907167e-06.\n",
      "  Para a aproximação inicial em 2, tivemos o seguinte resultado:\n",
      "   Procedimento concluído com sucesso!\n",
      "   Ponto 2.690647448517619 atingido em 5 iterações, com tolerancia 5.3576165726099134e-09.\n",
      "  Para a aproximação inicial em 3, tivemos o seguinte resultado:\n",
      "   Procedimento concluído com sucesso!\n",
      "   Ponto 2.6906479769300162 atingido em 3 iterações, com tolerancia 5.794730762787026e-06.\n",
      "  Para a aproximação inicial em 4, tivemos o seguinte resultado:\n",
      "   Procedimento concluído com sucesso!\n",
      "   Ponto 2.690647448072441 atingido em 5 iterações, com tolerancia 4.801794517561575e-10.\n",
      "\n"
     ]
    }
   ],
   "source": [
    "coeficientes = [1, -2, -5]\n",
    "expoentes = [3, 2, 0]\n",
    "extremidade_1_aproximacao = 1\n",
    "extremidade_2_aproximacao = 4\n",
    "tolerancia = 10**(-5)\n",
    "iteracoes_maximas = 50\n",
    "opcao_funcao = 0\n",
    "\n",
    "mostra_resultado(coeficientes, expoentes, extremidade_1_aproximacao, extremidade_2_aproximacao, \n",
    "                 tolerancia, iteracoes_maximas, opcao_funcao)"
   ]
  },
  {
   "cell_type": "markdown",
   "metadata": {},
   "source": [
    "# d) f(x) = e^x - 3x²"
   ]
  },
  {
   "cell_type": "code",
   "execution_count": 10,
   "metadata": {},
   "outputs": [
    {
     "name": "stdout",
     "output_type": "stream",
     "text": [
      "Para o metodo de tolerancia |pn - pn-1| < tolerancia:\n",
      "  Para a aproximação inicial em 0, tivemos o seguinte resultado:\n",
      "   Procedimento concluído com sucesso!\n",
      "   Ponto -0.4589622675369486 atingido em 6 iterações, com tolerancia 6.657892459571713e-09.\n",
      "  Para a aproximação inicial em 1, tivemos o seguinte resultado:\n",
      "   Procedimento concluído com sucesso!\n",
      "   Ponto 0.9100075724887091 atingido em 4 iterações, com tolerancia 6.017897291599184e-11.\n",
      "\n",
      "Para o metodo de tolerancia (|pn - pn-1|)/|pn| < tolerancia:\n",
      "  Para a aproximação inicial em 0, tivemos o seguinte resultado:\n",
      "   Procedimento concluído com sucesso!\n",
      "   Ponto -0.4589622675369486 atingido em 6 iterações, com tolerancia 1.4506404840863572e-08.\n",
      "  Para a aproximação inicial em 1, tivemos o seguinte resultado:\n",
      "   Procedimento concluído com sucesso!\n",
      "   Ponto 0.9100075724887091 atingido em 4 iterações, com tolerancia 6.61301891712978e-11.\n",
      "\n",
      "Para o metodo de tolerancia |f(pn)| < tolerancia:\n",
      "  Para a aproximação inicial em 0, tivemos o seguinte resultado:\n",
      "   Procedimento concluído com sucesso!\n",
      "   Ponto -0.45896227419484104 atingido em 5 iterações, com tolerancia 2.2541711275358978e-08.\n",
      "  Para a aproximação inicial em 1, tivemos o seguinte resultado:\n",
      "   Procedimento concluído com sucesso!\n",
      "   Ponto 0.9100075725488881 atingido em 3 iterações, com tolerancia 1.790749770691491e-10.\n",
      "\n"
     ]
    }
   ],
   "source": [
    "coeficientes = [e, -3]\n",
    "expoentes = [1, 2]\n",
    "extremidade_1_aproximacao = 0\n",
    "extremidade_2_aproximacao = 1\n",
    "tolerancia = 10**(-5)\n",
    "iteracoes_maximas = 15\n",
    "opcao_funcao = 2\n",
    "\n",
    "mostra_resultado(coeficientes, expoentes, extremidade_1_aproximacao, extremidade_2_aproximacao, \n",
    "                 tolerancia, iteracoes_maximas, opcao_funcao)"
   ]
  },
  {
   "cell_type": "code",
   "execution_count": 11,
   "metadata": {},
   "outputs": [
    {
     "name": "stdout",
     "output_type": "stream",
     "text": [
      "Para o metodo de tolerancia |pn - pn-1| < tolerancia:\n",
      "  Para a aproximação inicial em 3, tivemos o seguinte resultado:\n",
      "   Procedimento concluído com sucesso!\n",
      "   Ponto 3.7330790286328157 atingido em 9 iterações, com tolerancia 3.686208227549059e-08.\n",
      "  Para a aproximação inicial em 4, tivemos o seguinte resultado:\n",
      "   Procedimento concluído com sucesso!\n",
      "   Ponto 3.7330790286546853 atingido em 4 iterações, com tolerancia 4.869219411673953e-06.\n",
      "  Para a aproximação inicial em 5, tivemos o seguinte resultado:\n",
      "   Procedimento concluído com sucesso!\n",
      "   Ponto 3.733079028635674 atingido em 6 iterações, com tolerancia 1.7605550848287521e-06.\n",
      "\n",
      "Para o metodo de tolerancia (|pn - pn-1|)/|pn| < tolerancia:\n",
      "  Para a aproximação inicial em 3, tivemos o seguinte resultado:\n",
      "   Procedimento concluído com sucesso!\n",
      "   Ponto 3.7330790286328157 atingido em 9 iterações, com tolerancia 9.87444465888813e-09.\n",
      "  Para a aproximação inicial em 4, tivemos o seguinte resultado:\n",
      "   Procedimento concluído com sucesso!\n",
      "   Ponto 3.7330790286546853 atingido em 4 iterações, com tolerancia 1.304344047982479e-06.\n",
      "  Para a aproximação inicial em 5, tivemos o seguinte resultado:\n",
      "   Procedimento concluído com sucesso!\n",
      "   Ponto 3.733079028635674 atingido em 6 iterações, com tolerancia 4.7160937963646087e-07.\n",
      "\n",
      "Para o metodo de tolerancia |f(pn)| < tolerancia:\n",
      "  Para a aproximação inicial em 3, tivemos o seguinte resultado:\n",
      "   Procedimento concluído com sucesso!\n",
      "   Ponto 3.733079065494898 atingido em 8 iterações, com tolerancia 7.154622068128447e-07.\n",
      "  Para a aproximação inicial em 4, tivemos o seguinte resultado:\n",
      "   Procedimento concluído com sucesso!\n",
      "   Ponto 3.7330790286546853 atingido em 4 iterações, com tolerancia 4.2449244119779905e-10.\n",
      "  Para a aproximação inicial em 5, tivemos o seguinte resultado:\n",
      "   Procedimento concluído com sucesso!\n",
      "   Ponto 3.733079028635674 atingido em 6 iterações, com tolerancia 5.5493387662863825e-11.\n",
      "\n"
     ]
    }
   ],
   "source": [
    "extremidade_1_aproximacao = 3\n",
    "extremidade_2_aproximacao = 5\n",
    "\n",
    "mostra_resultado(coeficientes, expoentes, extremidade_1_aproximacao, extremidade_2_aproximacao, \n",
    "                 tolerancia, iteracoes_maximas, opcao_funcao)"
   ]
  },
  {
   "cell_type": "code",
   "execution_count": null,
   "metadata": {},
   "outputs": [],
   "source": []
  }
 ],
 "metadata": {
  "kernelspec": {
   "display_name": "Python 3",
   "language": "python",
   "name": "python3"
  },
  "language_info": {
   "codemirror_mode": {
    "name": "ipython",
    "version": 3
   },
   "file_extension": ".py",
   "mimetype": "text/x-python",
   "name": "python",
   "nbconvert_exporter": "python",
   "pygments_lexer": "ipython3",
   "version": "3.8.2"
  }
 },
 "nbformat": 4,
 "nbformat_minor": 4
}
