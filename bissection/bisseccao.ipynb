{
 "cells": [
  {
   "cell_type": "code",
   "execution_count": 1,
   "metadata": {},
   "outputs": [],
   "source": [
    "from math import e, cos"
   ]
  },
  {
   "cell_type": "markdown",
   "metadata": {},
   "source": [
    "# Metodo de Bissecção"
   ]
  },
  {
   "cell_type": "code",
   "execution_count": 2,
   "metadata": {},
   "outputs": [],
   "source": [
    "def funcao_x(coeficientes, expoentes, x, op=0):\n",
    "    for i in range(len(coeficientes)):\n",
    "        if i == 0:\n",
    "            if op == 1:\n",
    "                solucao = -1*(coeficientes[i]**(expoentes[i] * x))\n",
    "            elif op == 2:\n",
    "                solucao = coeficientes[i]**(expoentes[i] * x)\n",
    "            elif op == 3:\n",
    "                solucao = (coeficientes[i] * x * cos(coeficientes[i] * x))**expoentes[i]\n",
    "            else:\n",
    "                solucao = coeficientes[i] * (x**expoentes[i])\n",
    "        else:\n",
    "            solucao += coeficientes[i] * (x**expoentes[i])\n",
    "    return solucao"
   ]
  },
  {
   "cell_type": "code",
   "execution_count": 3,
   "metadata": {},
   "outputs": [],
   "source": [
    "def bisseccao(coeficientes, expoentes, extremidade_a, extremidade_b, tolerancia, maximo_iteracoes, op=0):\n",
    "    iteracao_atual = 1\n",
    "    funcao_a = funcao_x(coeficientes, expoentes, extremidade_a, op)\n",
    "    while(iteracao_atual <= maximo_iteracoes):\n",
    "        ponto_medio = extremidade_a + (extremidade_b - extremidade_a) / 2\n",
    "        funcao_p = funcao_x(coeficientes, expoentes, ponto_medio, op)\n",
    "        if(abs(funcao_p) < tolerancia):\n",
    "            return ponto_medio, iteracao_atual, \"Procedimento concluido com sucesso!\"\n",
    "        if(funcao_a * funcao_p > 0):\n",
    "            extremidade_a = ponto_medio\n",
    "            funcao_a = funcao_p\n",
    "        else:\n",
    "            extremidade_b = ponto_medio\n",
    "        iteracao_atual += 1\n",
    "    return ponto_medio, iteracao_atual-1, \"O procedimento nao foi bem sucedido!\""
   ]
  },
  {
   "cell_type": "markdown",
   "metadata": {},
   "source": [
    "# Exercicio 2"
   ]
  },
  {
   "cell_type": "code",
   "execution_count": 4,
   "metadata": {},
   "outputs": [
    {
     "name": "stdout",
     "output_type": "stream",
     "text": [
      "O ponto médio atingido pelo algoritmo foi: 1.359375\n",
      "A quantidade de iteracoes necessárias para atingir esse ponto medio foi: 6\n",
      "Procedimento concluido com sucesso!\n"
     ]
    }
   ],
   "source": [
    "# f(x) = x**3 + 4*(x**2) - 10\n",
    "extremidade_a = 1\n",
    "extremidade_b = 2\n",
    "coeficientes = [1, 4, -10]\n",
    "expoentes = [3, 2, 0]\n",
    "ponto_medio, iteracoes, mensagem = bisseccao(coeficientes, expoentes, extremidade_a, extremidade_b, 0.1, 100)\n",
    "print(f\"O ponto médio atingido pelo algoritmo foi: {ponto_medio}\")\n",
    "print(f\"A quantidade de iteracoes necessárias para atingir esse ponto medio foi: {iteracoes}\")\n",
    "print(mensagem)"
   ]
  },
  {
   "cell_type": "markdown",
   "metadata": {},
   "source": [
    "# Exercicio 3"
   ]
  },
  {
   "cell_type": "markdown",
   "metadata": {},
   "source": [
    "# a)"
   ]
  },
  {
   "cell_type": "code",
   "execution_count": 5,
   "metadata": {},
   "outputs": [
    {
     "name": "stdout",
     "output_type": "stream",
     "text": [
      "O ponto médio atingido pelo algoritmo foi: 0.6411895751953125\n",
      "A quantidade de iteracoes necessárias para atingir esse ponto medio foi: 16\n",
      "Procedimento concluido com sucesso!\n"
     ]
    }
   ],
   "source": [
    "# f(x) = - 2**(-x) + x\n",
    "# f(x) = -(1/2)**x + x\n",
    "extremidade_a = 0\n",
    "extremidade_b = 1\n",
    "coeficientes = [1/2, 1]\n",
    "expoentes = [1, 1]\n",
    "ponto_medio, iteracoes, mensagem = bisseccao(coeficientes, expoentes, extremidade_a, extremidade_b, 0.00001, 100, op=1)\n",
    "print(f\"O ponto médio atingido pelo algoritmo foi: {ponto_medio}\")\n",
    "print(f\"A quantidade de iteracoes necessárias para atingir esse ponto medio foi: {iteracoes}\")\n",
    "print(mensagem)"
   ]
  },
  {
   "cell_type": "markdown",
   "metadata": {},
   "source": [
    "# b)"
   ]
  },
  {
   "cell_type": "code",
   "execution_count": 6,
   "metadata": {},
   "outputs": [
    {
     "name": "stdout",
     "output_type": "stream",
     "text": [
      "O ponto médio atingido pelo algoritmo foi: 0.25753021240234375\n",
      "A quantidade de iteracoes necessárias para atingir esse ponto medio foi: 17\n",
      "Procedimento concluido com sucesso!\n"
     ]
    }
   ],
   "source": [
    "# f(x) = e**x - x**2 + 3*x -2\n",
    "extremidade_a = 0\n",
    "extremidade_b = 1\n",
    "coeficientes = [e, -1, 3, -2]\n",
    "expoentes = [1, 2, 1, 0]\n",
    "ponto_medio, iteracoes, mensagem = bisseccao(coeficientes, expoentes, extremidade_a, extremidade_b, 0.00001, 100, op=2)\n",
    "print(f\"O ponto médio atingido pelo algoritmo foi: {ponto_medio}\")\n",
    "print(f\"A quantidade de iteracoes necessárias para atingir esse ponto medio foi: {iteracoes}\")\n",
    "print(mensagem)"
   ]
  },
  {
   "cell_type": "markdown",
   "metadata": {},
   "source": [
    "# c)"
   ]
  },
  {
   "cell_type": "code",
   "execution_count": 7,
   "metadata": {},
   "outputs": [
    {
     "name": "stdout",
     "output_type": "stream",
     "text": [
      "O ponto médio atingido pelo algoritmo foi: -2.1913070678710938\n",
      "A quantidade de iteracoes necessárias para atingir esse ponto medio foi: 17\n",
      "Procedimento concluido com sucesso!\n"
     ]
    }
   ],
   "source": [
    "# f(x) = 2*x*cos(2*x) - (x + 1)**2\n",
    "# f(x) = 2*x*cos(2*x) - (x**2 + 2*x + 1)\n",
    "# f(x) = 2*x*cos(2*x) - x**2 - 2*x - 1\n",
    "extremidade_a = -3\n",
    "extremidade_b = -2\n",
    "coeficientes = [2, -1, -2, -1]\n",
    "expoentes = [1, 2, 1, 0]\n",
    "ponto_medio, iteracoes, mensagem = bisseccao(coeficientes, expoentes, extremidade_a, extremidade_b, 0.00001, 100, op=3)\n",
    "print(f\"O ponto médio atingido pelo algoritmo foi: {ponto_medio}\")\n",
    "print(f\"A quantidade de iteracoes necessárias para atingir esse ponto medio foi: {iteracoes}\")\n",
    "print(mensagem)"
   ]
  },
  {
   "cell_type": "code",
   "execution_count": 8,
   "metadata": {},
   "outputs": [
    {
     "name": "stdout",
     "output_type": "stream",
     "text": [
      "O ponto médio atingido pelo algoritmo foi: -0.7981605529785156\n",
      "A quantidade de iteracoes necessárias para atingir esse ponto medio foi: 18\n",
      "Procedimento concluido com sucesso!\n"
     ]
    }
   ],
   "source": [
    "# f(x) = 2*x*cos(2*x) - (x + 1)**2\n",
    "# f(x) = 2*x*cos(2*x) - (x**2 + 2*x + 1)\n",
    "# f(x) = 2*x*cos(2*x) - x**2 - 2*x - 1\n",
    "extremidade_a = -1\n",
    "extremidade_b = 0\n",
    "coeficientes = [2, -1, -2, -1]\n",
    "expoentes = [1, 2, 1, 0]\n",
    "ponto_medio, iteracoes, mensagem = bisseccao(coeficientes, expoentes, extremidade_a, extremidade_b, 0.00001, 100, op=3)\n",
    "print(f\"O ponto médio atingido pelo algoritmo foi: {ponto_medio}\")\n",
    "print(f\"A quantidade de iteracoes necessárias para atingir esse ponto medio foi: {iteracoes}\")\n",
    "print(mensagem)"
   ]
  },
  {
   "cell_type": "markdown",
   "metadata": {},
   "source": [
    "# d)"
   ]
  },
  {
   "cell_type": "code",
   "execution_count": 9,
   "metadata": {},
   "outputs": [
    {
     "name": "stdout",
     "output_type": "stream",
     "text": [
      "O ponto médio atingido pelo algoritmo foi: 0.29752807617187504\n",
      "A quantidade de iteracoes necessárias para atingir esse ponto medio foi: 14\n",
      "Procedimento concluido com sucesso!\n"
     ]
    }
   ],
   "source": [
    "# f(x) = x*cos(x) - 2*x**2 + 3*x - 1\n",
    "extremidade_a = 0.2\n",
    "extremidade_b = 0.3\n",
    "coeficientes = [1, -2, 3, -1]\n",
    "expoentes = [1, 2, 1, 0]\n",
    "ponto_medio, iteracoes, mensagem = bisseccao(coeficientes, expoentes, extremidade_a, extremidade_b, 0.00001, 100, op=3)\n",
    "print(f\"O ponto médio atingido pelo algoritmo foi: {ponto_medio}\")\n",
    "print(f\"A quantidade de iteracoes necessárias para atingir esse ponto medio foi: {iteracoes}\")\n",
    "print(mensagem)"
   ]
  },
  {
   "cell_type": "code",
   "execution_count": 10,
   "metadata": {},
   "outputs": [
    {
     "name": "stdout",
     "output_type": "stream",
     "text": [
      "O ponto médio atingido pelo algoritmo foi: 1.256622314453125\n",
      "A quantidade de iteracoes necessárias para atingir esse ponto medio foi: 14\n",
      "Procedimento concluido com sucesso!\n"
     ]
    }
   ],
   "source": [
    "# f(x) = x*cos(x) - 2*x**2 + 3*x - 1\n",
    "extremidade_a = 1.2\n",
    "extremidade_b = 1.3\n",
    "coeficientes = [1, -2, 3, -1]\n",
    "expoentes = [1, 2, 1, 0]\n",
    "ponto_medio, iteracoes, mensagem = bisseccao(coeficientes, expoentes, extremidade_a, extremidade_b, 0.00001, 100, op=3)\n",
    "print(f\"O ponto médio atingido pelo algoritmo foi: {ponto_medio}\")\n",
    "print(f\"A quantidade de iteracoes necessárias para atingir esse ponto medio foi: {iteracoes}\")\n",
    "print(mensagem)"
   ]
  },
  {
   "cell_type": "code",
   "execution_count": null,
   "metadata": {},
   "outputs": [],
   "source": []
  }
 ],
 "metadata": {
  "kernelspec": {
   "display_name": "Python 3",
   "language": "python",
   "name": "python3"
  },
  "language_info": {
   "codemirror_mode": {
    "name": "ipython",
    "version": 3
   },
   "file_extension": ".py",
   "mimetype": "text/x-python",
   "name": "python",
   "nbconvert_exporter": "python",
   "pygments_lexer": "ipython3",
   "version": "3.8.2"
  }
 },
 "nbformat": 4,
 "nbformat_minor": 4
}
