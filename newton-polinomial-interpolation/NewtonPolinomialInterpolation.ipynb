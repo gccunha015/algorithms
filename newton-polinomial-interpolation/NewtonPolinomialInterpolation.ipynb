{
 "cells": [
  {
   "cell_type": "code",
   "execution_count": 1,
   "metadata": {},
   "outputs": [],
   "source": [
    "def cria_tabela(valores, funcoes):\n",
    "    tamanho = len(valores)+1\n",
    "    tabela = [[] for _i in range(tamanho)]\n",
    "    tabela[0] = valores\n",
    "    tabela[1] = funcoes\n",
    "    \n",
    "    for i in range(2, tamanho):\n",
    "        tabela[i].extend([0] * (tamanho-i))\n",
    "    \n",
    "    return tabela"
   ]
  },
  {
   "cell_type": "code",
   "execution_count": 2,
   "metadata": {},
   "outputs": [],
   "source": [
    "def funcao_pontos(tabela, i, j):\n",
    "    numerador = tabela[i+1][j+1] - tabela[i+1][j]\n",
    "    denominador = tabela[0][i+j+1] - tabela[0][j]\n",
    "    \n",
    "    return numerador / denominador"
   ]
  },
  {
   "cell_type": "code",
   "execution_count": 3,
   "metadata": {},
   "outputs": [],
   "source": [
    "def diferencas_divididas(valores, funcoes):\n",
    "    tabela = cria_tabela(valores, funcoes)\n",
    "    \n",
    "    for i in range(2, len(tabela)):\n",
    "        for j in range(len(tabela[i])):\n",
    "            tabela[i][j] = funcao_pontos(tabela, i-2, j)\n",
    "    \n",
    "    return tabela[2:]"
   ]
  },
  {
   "cell_type": "markdown",
   "metadata": {},
   "source": [
    "## Exercicio Tutoriado 1"
   ]
  },
  {
   "cell_type": "code",
   "execution_count": 4,
   "metadata": {},
   "outputs": [
    {
     "data": {
      "text/plain": [
       "[[-0.4837056666666664, -0.548946, -0.5786120000000003, -0.5715209999999994],\n",
       " [-0.10873388888888935, -0.04944333333333385, 0.011818333333334928],\n",
       " [0.06587839506172834, 0.06806851851852086],\n",
       " [0.0018251028806604353]]"
      ]
     },
     "execution_count": 4,
     "metadata": {},
     "output_type": "execute_result"
    }
   ],
   "source": [
    "valores = [1, 1.3, 1.6, 1.9, 2.2]\n",
    "funcoes = [0.7651977, 0.6200860, 0.4554022, 0.2818186, 0.1103623]\n",
    "diferencas_divididas(valores, funcoes)"
   ]
  },
  {
   "cell_type": "markdown",
   "metadata": {},
   "source": [
    "## Exercicio 1"
   ]
  },
  {
   "cell_type": "code",
   "execution_count": 5,
   "metadata": {},
   "outputs": [
    {
     "data": {
      "text/plain": [
       "[[3.0, 7.0, 5.0, -3.0, -17.0],\n",
       " [2.0, -1.0, -4.0, -7.0],\n",
       " [-1.0, -1.0, -1.0],\n",
       " [0.0, 0.0],\n",
       " [0.0]]"
      ]
     },
     "execution_count": 5,
     "metadata": {},
     "output_type": "execute_result"
    }
   ],
   "source": [
    "valores = [-2, -1, 0, 1, 2, 3]\n",
    "funcoes = [1, 4, 11, 16, 13, -4]\n",
    "diferencas_divididas(valores, funcoes)"
   ]
  },
  {
   "cell_type": "markdown",
   "metadata": {},
   "source": [
    "## Exercicio 2"
   ]
  },
  {
   "cell_type": "code",
   "execution_count": 6,
   "metadata": {},
   "outputs": [
    {
     "data": {
      "text/plain": [
       "[[4.0, -2.0, -2.0, 4.0], [-3.0, 0.0, 3.0], [1.0, 1.0], [0.0]]"
      ]
     },
     "execution_count": 6,
     "metadata": {},
     "output_type": "execute_result"
    }
   ],
   "source": [
    "valores = [-2, -1, 0, 1, 2]\n",
    "funcoes = [-1, 3, 1, -1, 3]\n",
    "diferencas_divididas(valores, funcoes)"
   ]
  },
  {
   "cell_type": "code",
   "execution_count": null,
   "metadata": {},
   "outputs": [],
   "source": []
  }
 ],
 "metadata": {
  "kernelspec": {
   "display_name": "Python 3",
   "language": "python",
   "name": "python3"
  },
  "language_info": {
   "codemirror_mode": {
    "name": "ipython",
    "version": 3
   },
   "file_extension": ".py",
   "mimetype": "text/x-python",
   "name": "python",
   "nbconvert_exporter": "python",
   "pygments_lexer": "ipython3",
   "version": "3.8.3"
  }
 },
 "nbformat": 4,
 "nbformat_minor": 4
}
