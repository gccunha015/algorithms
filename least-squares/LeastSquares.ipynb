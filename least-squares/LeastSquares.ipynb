{
 "cells": [
  {
   "cell_type": "code",
   "execution_count": 1,
   "metadata": {},
   "outputs": [],
   "source": [
    "from math import pow"
   ]
  },
  {
   "cell_type": "code",
   "execution_count": 2,
   "metadata": {},
   "outputs": [],
   "source": [
    "def cria_tabela(valores, funcoes):\n",
    "    tabela = [[] for _j in range(5)]\n",
    "    tabela[0] = valores\n",
    "    tabela[0].append(0)\n",
    "    tabela[1] = funcoes\n",
    "    tabela[1].append(0)\n",
    "    tabela[2] = [pow(valor, 2) for valor in tabela[0]]\n",
    "    tabela[3] = [tabela[0][i]*tabela[1][i] for i in range(len(tabela[0]))]\n",
    "    tabela[4] = [0 for _i in range(len(tabela[0]))]\n",
    "    \n",
    "    return tabela"
   ]
  },
  {
   "cell_type": "code",
   "execution_count": 3,
   "metadata": {},
   "outputs": [],
   "source": [
    "def somatorio(tabela):\n",
    "    for i in range(len(tabela)-1):\n",
    "        soma = 0\n",
    "        for j in range(len(tabela[i])):\n",
    "            soma += tabela[i][j]\n",
    "        tabela[i][len(tabela[i])-1] = soma"
   ]
  },
  {
   "cell_type": "code",
   "execution_count": 4,
   "metadata": {},
   "outputs": [],
   "source": [
    "def termo_a(a, tabela):\n",
    "    m = len(tabela[0])-1\n",
    "    \n",
    "    if a == 0:\n",
    "        numerador = tabela[2][m]*tabela[1][m] - tabela[3][m]*tabela[0][m]\n",
    "    else:\n",
    "        numerador = m*tabela[3][m] - tabela[0][m]*tabela[1][m]\n",
    "    \n",
    "    denominador = m*tabela[2][m] - pow(tabela[0][m], 2)\n",
    "    \n",
    "    return numerador / denominador"
   ]
  },
  {
   "cell_type": "code",
   "execution_count": 5,
   "metadata": {},
   "outputs": [],
   "source": [
    "def pontos(a0, a1, tabela):\n",
    "    for i in range(len(tabela[4])-1):\n",
    "        tabela[4][i] = tabela[0][i]*a1 + a0"
   ]
  },
  {
   "cell_type": "code",
   "execution_count": 6,
   "metadata": {},
   "outputs": [],
   "source": [
    "def erro(tabela):\n",
    "    erro = 0\n",
    "    for i in range(len(tabela[0])-1):\n",
    "        erro += pow(tabela[1][i]-tabela[4][i], 2)\n",
    "    \n",
    "    tabela[4][len(tabela[4])-1] = erro"
   ]
  },
  {
   "cell_type": "code",
   "execution_count": 7,
   "metadata": {},
   "outputs": [],
   "source": [
    "def minimos_quadrados(valores, funcoes):\n",
    "    tabela = cria_tabela(valores, funcoes)\n",
    "    \n",
    "    somatorio(tabela)\n",
    "    a0 = termo_a(0, tabela)\n",
    "    a1 = termo_a(1, tabela)\n",
    "    pontos(a0, a1, tabela)\n",
    "    erro(tabela)\n",
    "    \n",
    "    return tabela, a0, a1"
   ]
  },
  {
   "cell_type": "code",
   "execution_count": 8,
   "metadata": {},
   "outputs": [],
   "source": [
    "def mostra_resultado(tabela, a0, a1):\n",
    "    if a0 >= 0:\n",
    "        print(f\"P(xi) = {a1}*xi +{a0}\")\n",
    "    else:\n",
    "        print(f\"P(xi) = {a1}*xi {a0}\")\n",
    "    print(\"\\n\")\n",
    "    print(\"Pontos:\")\n",
    "    [print(f\"  {i+1:3}:\", tabela[4][i]) for i in range(len(tabela[4])-1)]\n",
    "    print(\"\\n\")\n",
    "    print(f\"Erro: {tabela[4][len(tabela[4])-1]}\")"
   ]
  },
  {
   "cell_type": "markdown",
   "metadata": {},
   "source": [
    "## Exercicio Tutoriado"
   ]
  },
  {
   "cell_type": "code",
   "execution_count": 9,
   "metadata": {},
   "outputs": [
    {
     "name": "stdout",
     "output_type": "stream",
     "text": [
      "P(xi) = 1.5381818181818192*xi -0.3600000000000044\n",
      "\n",
      "\n",
      "Pontos:\n",
      "    1: 1.1781818181818147\n",
      "    2: 2.716363636363634\n",
      "    3: 4.254545454545453\n",
      "    4: 5.792727272727272\n",
      "    5: 7.330909090909091\n",
      "    6: 8.869090909090911\n",
      "    7: 10.40727272727273\n",
      "    8: 11.945454545454549\n",
      "    9: 13.483636363636368\n",
      "   10: 15.021818181818187\n",
      "\n",
      "\n",
      "Erro: 2.3447272727272717\n"
     ]
    }
   ],
   "source": [
    "valores = [1, 2, 3, 4, 5, 6, 7, 8, 9, 10]\n",
    "funcoes = [1.3, 3.5, 4.2, 5, 7, 8.8, 10.1, 12.5, 13, 15.6]\n",
    "\n",
    "tabela, a0, a1 = minimos_quadrados(valores, funcoes)\n",
    "mostra_resultado(tabela, a0, a1)"
   ]
  },
  {
   "cell_type": "markdown",
   "metadata": {},
   "source": [
    "## Exercicio com Discussao em Duplas"
   ]
  },
  {
   "cell_type": "code",
   "execution_count": 10,
   "metadata": {},
   "outputs": [
    {
     "name": "stdout",
     "output_type": "stream",
     "text": [
      "P(xi) = 1.70784*xi +0.8996800000000001\n",
      "\n",
      "\n",
      "Pontos:\n",
      "    1: 0.8996800000000001\n",
      "    2: 1.3266400000000003\n",
      "    3: 1.7536\n",
      "    4: 2.1805600000000003\n",
      "    5: 2.60752\n",
      "\n",
      "\n",
      "Erro: 0.03919836400000004\n"
     ]
    }
   ],
   "source": [
    "valores = [0, 0.25, 0.5, 0.75, 1]\n",
    "funcoes = [1, 1.2840, 1.6487, 2.1170, 2.7183]\n",
    "\n",
    "tabela, a0, a1 = minimos_quadrados(valores, funcoes)\n",
    "mostra_resultado(tabela, a0, a1)"
   ]
  },
  {
   "cell_type": "markdown",
   "metadata": {},
   "source": [
    "## Exercicio 1"
   ]
  },
  {
   "cell_type": "code",
   "execution_count": 13,
   "metadata": {},
   "outputs": [
    {
     "name": "stdout",
     "output_type": "stream",
     "text": [
      "P(xi) = 1.2196213425129134*xi +0.6208950086058506\n",
      "\n",
      "\n",
      "Pontos:\n",
      "    1: 1.8405163511187639\n",
      "    2: 1.9624784853700556\n",
      "    3: 2.2064027538726383\n",
      "    4: 2.450327022375221\n",
      "    5: 2.938175559380386\n",
      "    6: 3.182099827882969\n",
      "\n",
      "\n",
      "Erro: 2.7194492254731617e-05\n"
     ]
    },
    {
     "data": {
      "text/plain": [
       "[[1, 1.1, 1.3, 1.5, 1.9, 2.1, 8.9],\n",
       " [1.84, 1.96, 2.21, 2.45, 2.94, 3.18, 14.58],\n",
       " [1.0, 1.2100000000000002, 1.6900000000000002, 2.25, 3.61, 4.41, 14.17],\n",
       " [1.84,\n",
       "  2.156,\n",
       "  2.873,\n",
       "  3.6750000000000003,\n",
       "  5.585999999999999,\n",
       "  6.678000000000001,\n",
       "  22.808],\n",
       " [1.8405163511187639,\n",
       "  1.9624784853700556,\n",
       "  2.2064027538726383,\n",
       "  2.450327022375221,\n",
       "  2.938175559380386,\n",
       "  3.182099827882969,\n",
       "  2.7194492254731617e-05]]"
      ]
     },
     "execution_count": 13,
     "metadata": {},
     "output_type": "execute_result"
    }
   ],
   "source": [
    "valores = [1, 1.1, 1.3, 1.5, 1.9, 2.1]\n",
    "funcoes = [1.84, 1.96, 2.21, 2.45, 2.94, 3.18]\n",
    "\n",
    "tabela, a0, a1 = minimos_quadrados(valores, funcoes)\n",
    "mostra_resultado(tabela, a0, a1)\n",
    "tabela"
   ]
  },
  {
   "cell_type": "markdown",
   "metadata": {},
   "source": [
    "## Exercicio 2"
   ]
  },
  {
   "cell_type": "code",
   "execution_count": 12,
   "metadata": {},
   "outputs": [
    {
     "name": "stdout",
     "output_type": "stream",
     "text": [
      "P(xi) = 72.08451769539633*xi -194.13824073209292\n",
      "\n",
      "\n",
      "Pontos:\n",
      "    1: 94.19983004949239\n",
      "    2: 108.61673358857166\n",
      "    3: 130.24208889719057\n",
      "    4: 144.65899243626984\n",
      "    5: 173.49279951442833\n",
      "    6: 202.32660659258687\n",
      "    7: 231.16041367074547\n",
      "    8: 259.99422074890396\n",
      "    9: 296.0364795966021\n",
      "   10: 317.661834905221\n",
      "\n",
      "\n",
      "Erro: 329.01319303389823\n"
     ]
    }
   ],
   "source": [
    "valores = [4, 4.2, 4.5, 4.7, 5.1, 5.5, 5.9, 6.3, 6.8, 7.1]\n",
    "funcoes = [102.56, 113.18, 130.11, 142.05, 167.53, 195.14, 224.87, 256.73, 299.5, 326.72]\n",
    "\n",
    "tabela, a0, a1 = minimos_quadrados(valores, funcoes)\n",
    "mostra_resultado(tabela, a0, a1)"
   ]
  },
  {
   "cell_type": "code",
   "execution_count": null,
   "metadata": {},
   "outputs": [],
   "source": []
  }
 ],
 "metadata": {
  "kernelspec": {
   "display_name": "Python 3",
   "language": "python",
   "name": "python3"
  },
  "language_info": {
   "codemirror_mode": {
    "name": "ipython",
    "version": 3
   },
   "file_extension": ".py",
   "mimetype": "text/x-python",
   "name": "python",
   "nbconvert_exporter": "python",
   "pygments_lexer": "ipython3",
   "version": "3.8.3"
  }
 },
 "nbformat": 4,
 "nbformat_minor": 4
}
